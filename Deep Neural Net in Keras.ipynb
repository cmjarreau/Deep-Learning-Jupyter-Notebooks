{
 "cells": [
  {
   "cell_type": "code",
   "execution_count": 4,
   "metadata": {},
   "outputs": [
    {
     "name": "stdout",
     "output_type": "stream",
     "text": [
      "Train on 60000 samples, validate on 10000 samples\n",
      "Epoch 1/20\n",
      "60000/60000 [==============================] - 3s 50us/step - loss: 0.3903 - acc: 0.8829 - val_loss: 0.1701 - val_acc: 0.9481\n",
      "Epoch 2/20\n",
      "60000/60000 [==============================] - 2s 40us/step - loss: 0.1592 - acc: 0.9528 - val_loss: 0.1207 - val_acc: 0.9616\n",
      "Epoch 3/20\n",
      "60000/60000 [==============================] - 2s 40us/step - loss: 0.1189 - acc: 0.9640 - val_loss: 0.1109 - val_acc: 0.9633\n",
      "Epoch 4/20\n",
      "60000/60000 [==============================] - 2s 40us/step - loss: 0.0965 - acc: 0.9707 - val_loss: 0.1053 - val_acc: 0.9660\n",
      "Epoch 5/20\n",
      "60000/60000 [==============================] - 2s 40us/step - loss: 0.0813 - acc: 0.9743 - val_loss: 0.0913 - val_acc: 0.9706\n",
      "Epoch 6/20\n",
      "60000/60000 [==============================] - 2s 41us/step - loss: 0.0696 - acc: 0.9778 - val_loss: 0.0928 - val_acc: 0.9717\n",
      "Epoch 7/20\n",
      "60000/60000 [==============================] - 2s 41us/step - loss: 0.0628 - acc: 0.9804 - val_loss: 0.0907 - val_acc: 0.9707\n",
      "Epoch 8/20\n",
      "60000/60000 [==============================] - 2s 40us/step - loss: 0.0547 - acc: 0.9825 - val_loss: 0.0880 - val_acc: 0.9732\n",
      "Epoch 9/20\n",
      "60000/60000 [==============================] - 2s 40us/step - loss: 0.0496 - acc: 0.9842 - val_loss: 0.0908 - val_acc: 0.9726\n",
      "Epoch 10/20\n",
      "60000/60000 [==============================] - 2s 40us/step - loss: 0.0434 - acc: 0.9855 - val_loss: 0.0836 - val_acc: 0.9756\n",
      "Epoch 11/20\n",
      "60000/60000 [==============================] - 2s 40us/step - loss: 0.0428 - acc: 0.9854 - val_loss: 0.0952 - val_acc: 0.9734\n",
      "Epoch 12/20\n",
      "60000/60000 [==============================] - 2s 40us/step - loss: 0.0387 - acc: 0.9874 - val_loss: 0.0926 - val_acc: 0.9742\n",
      "Epoch 13/20\n",
      "60000/60000 [==============================] - 2s 40us/step - loss: 0.0366 - acc: 0.9883 - val_loss: 0.0936 - val_acc: 0.9739\n",
      "Epoch 14/20\n",
      "60000/60000 [==============================] - 2s 40us/step - loss: 0.0344 - acc: 0.9884 - val_loss: 0.0851 - val_acc: 0.9756\n",
      "Epoch 15/20\n",
      "60000/60000 [==============================] - 2s 40us/step - loss: 0.0326 - acc: 0.9891 - val_loss: 0.0982 - val_acc: 0.9732\n",
      "Epoch 16/20\n",
      "60000/60000 [==============================] - 2s 41us/step - loss: 0.0287 - acc: 0.9904 - val_loss: 0.0940 - val_acc: 0.9741\n",
      "Epoch 17/20\n",
      "60000/60000 [==============================] - 2s 40us/step - loss: 0.0285 - acc: 0.9906 - val_loss: 0.0968 - val_acc: 0.9753\n",
      "Epoch 18/20\n",
      "60000/60000 [==============================] - 2s 40us/step - loss: 0.0269 - acc: 0.9912 - val_loss: 0.0977 - val_acc: 0.9754\n",
      "Epoch 19/20\n",
      "60000/60000 [==============================] - 2s 40us/step - loss: 0.0264 - acc: 0.9909 - val_loss: 0.1058 - val_acc: 0.9737\n",
      "Epoch 20/20\n",
      "60000/60000 [==============================] - 2s 41us/step - loss: 0.0231 - acc: 0.9920 - val_loss: 0.0980 - val_acc: 0.9737\n"
     ]
    },
    {
     "data": {
      "text/plain": [
       "<keras.callbacks.History at 0x7f336ca84438>"
      ]
     },
     "execution_count": 4,
     "metadata": {},
     "output_type": "execute_result"
    }
   ],
   "source": [
    "import keras\n",
    "from keras.datasets import mnist\n",
    "from keras.models import Sequential\n",
    "from keras.layers import Dense\n",
    "from keras.optimizers import SGD\n",
    "from keras.layers import Dropout\n",
    "from keras.layers.normalization import BatchNormalization\n",
    "from matplotlib import pyplot as plt\n",
    "\n",
    "(X_train, y_train), (X_valid, y_valid) = mnist.load_data()\n",
    "\n",
    "X_train = X_train.reshape(60000, 784).astype('float')\n",
    "X_valid = X_valid.reshape(10000, 784).astype('float')\n",
    "\n",
    "X_train /= 255\n",
    "X_valid /= 255\n",
    "\n",
    "n_classes = 10\n",
    "y_train = keras.utils.to_categorical(y_train, n_classes)\n",
    "y_valid = keras.utils.to_categorical(y_valid, n_classes)\n",
    "\n",
    "model = Sequential()\n",
    "model.add(Dense(64, activation='relu', input_shape=(784,)))\n",
    "model.add(BatchNormalization())\n",
    "\n",
    "model.add(Dense(64, activation='relu'))\n",
    "model.add(BatchNormalization())\n",
    "\n",
    "model.add(Dense(64, activation='relu'))\n",
    "model.add(BatchNormalization())\n",
    "model.add(Dropout(0.2))\n",
    "\n",
    "model.add(Dense(10, activation='softmax'))\n",
    "\n",
    "model.compile(loss='categorical_crossentropy', optimizer='adam', metrics=['accuracy'])\n",
    "\n",
    "model.fit(X_train, y_train,\n",
    "         batch_size=128, epochs=20,\n",
    "         verbose=1,\n",
    "         validation_data=(X_valid, y_valid))"
   ]
  },
  {
   "cell_type": "code",
   "execution_count": null,
   "metadata": {},
   "outputs": [],
   "source": []
  }
 ],
 "metadata": {
  "kernelspec": {
   "display_name": "Python 3",
   "language": "python",
   "name": "python3"
  },
  "language_info": {
   "codemirror_mode": {
    "name": "ipython",
    "version": 3
   },
   "file_extension": ".py",
   "mimetype": "text/x-python",
   "name": "python",
   "nbconvert_exporter": "python",
   "pygments_lexer": "ipython3",
   "version": "3.6.5"
  }
 },
 "nbformat": 4,
 "nbformat_minor": 2
}

{
 "cells": [
  {
   "cell_type": "code",
   "execution_count": 1,
   "metadata": {},
   "outputs": [
    {
     "name": "stderr",
     "output_type": "stream",
     "text": [
      "Using TensorFlow backend.\n"
     ]
    },
    {
     "name": "stdout",
     "output_type": "stream",
     "text": [
      "Downloading data from https://s3.amazonaws.com/keras-datasets/boston_housing.npz\n",
      "57344/57026 [==============================] - 0s 2us/step\n"
     ]
    }
   ],
   "source": [
    "import keras\n",
    "from keras.datasets import boston_housing\n",
    "from keras.models import Sequential\n",
    "from keras.layers import Dense, Dropout\n",
    "from keras.layers.normalization import BatchNormalization\n",
    "\n",
    "(X_train, y_train), (X_valid, y_valid) = boston_housing.load_data()"
   ]
  },
  {
   "cell_type": "code",
   "execution_count": 3,
   "metadata": {},
   "outputs": [
    {
     "data": {
      "text/plain": [
       "(404, 13)"
      ]
     },
     "execution_count": 3,
     "metadata": {},
     "output_type": "execute_result"
    }
   ],
   "source": [
    "X_train.shape"
   ]
  },
  {
   "cell_type": "code",
   "execution_count": 4,
   "metadata": {},
   "outputs": [
    {
     "data": {
      "text/plain": [
       "array([   1.23247,    0.     ,    8.14   ,    0.     ,    0.538  ,\n",
       "          6.142  ,   91.7    ,    3.9769 ,    4.     ,  307.     ,\n",
       "         21.     ,  396.9    ,   18.72   ])"
      ]
     },
     "execution_count": 4,
     "metadata": {},
     "output_type": "execute_result"
    }
   ],
   "source": [
    "X_train[0]"
   ]
  },
  {
   "cell_type": "code",
   "execution_count": 5,
   "metadata": {},
   "outputs": [
    {
     "data": {
      "text/plain": [
       "array([  18.0846,    0.    ,   18.1   ,    0.    ,    0.679 ,    6.434 ,\n",
       "        100.    ,    1.8347,   24.    ,  666.    ,   20.2   ,   27.25  ,\n",
       "         29.05  ])"
      ]
     },
     "execution_count": 5,
     "metadata": {},
     "output_type": "execute_result"
    }
   ],
   "source": [
    "X_valid[0]"
   ]
  },
  {
   "cell_type": "code",
   "execution_count": 6,
   "metadata": {},
   "outputs": [
    {
     "name": "stdout",
     "output_type": "stream",
     "text": [
      "Train on 404 samples, validate on 102 samples\n",
      "Epoch 1/32\n",
      "404/404 [==============================] - 1s 1ms/step - loss: 586.7479 - val_loss: 583.0465\n",
      "Epoch 2/32\n",
      "404/404 [==============================] - 0s 336us/step - loss: 561.6585 - val_loss: 561.1626\n",
      "Epoch 3/32\n",
      "404/404 [==============================] - 0s 329us/step - loss: 533.2185 - val_loss: 545.3594\n",
      "Epoch 4/32\n",
      "404/404 [==============================] - 0s 338us/step - loss: 512.3996 - val_loss: 507.7560\n",
      "Epoch 5/32\n",
      "404/404 [==============================] - 0s 332us/step - loss: 484.2241 - val_loss: 461.4894\n",
      "Epoch 6/32\n",
      "404/404 [==============================] - 0s 331us/step - loss: 450.7603 - val_loss: 375.5781\n",
      "Epoch 7/32\n",
      "404/404 [==============================] - 0s 331us/step - loss: 412.0314 - val_loss: 297.1243\n",
      "Epoch 8/32\n",
      "404/404 [==============================] - 0s 330us/step - loss: 369.2083 - val_loss: 249.4677\n",
      "Epoch 9/32\n",
      "404/404 [==============================] - 0s 332us/step - loss: 333.8071 - val_loss: 193.7987\n",
      "Epoch 10/32\n",
      "404/404 [==============================] - 0s 348us/step - loss: 291.7748 - val_loss: 156.7633\n",
      "Epoch 11/32\n",
      "404/404 [==============================] - 0s 330us/step - loss: 261.4919 - val_loss: 203.5403\n",
      "Epoch 12/32\n",
      "404/404 [==============================] - 0s 344us/step - loss: 224.2030 - val_loss: 222.8097\n",
      "Epoch 13/32\n",
      "404/404 [==============================] - 0s 334us/step - loss: 187.8887 - val_loss: 271.0555\n",
      "Epoch 14/32\n",
      "404/404 [==============================] - 0s 355us/step - loss: 162.4211 - val_loss: 162.9276\n",
      "Epoch 15/32\n",
      "404/404 [==============================] - 0s 356us/step - loss: 137.0682 - val_loss: 90.7997\n",
      "Epoch 16/32\n",
      "404/404 [==============================] - 0s 357us/step - loss: 112.7203 - val_loss: 145.5845\n",
      "Epoch 17/32\n",
      "404/404 [==============================] - 0s 335us/step - loss: 94.3021 - val_loss: 79.1350\n",
      "Epoch 18/32\n",
      "404/404 [==============================] - 0s 341us/step - loss: 84.4179 - val_loss: 51.3935\n",
      "Epoch 19/32\n",
      "404/404 [==============================] - 0s 334us/step - loss: 67.2555 - val_loss: 40.0742\n",
      "Epoch 20/32\n",
      "404/404 [==============================] - 0s 325us/step - loss: 64.1458 - val_loss: 27.1548\n",
      "Epoch 21/32\n",
      "404/404 [==============================] - 0s 332us/step - loss: 53.1826 - val_loss: 35.0268\n",
      "Epoch 22/32\n",
      "404/404 [==============================] - 0s 335us/step - loss: 53.2598 - val_loss: 34.0509\n",
      "Epoch 23/32\n",
      "404/404 [==============================] - 0s 341us/step - loss: 53.0896 - val_loss: 46.3432\n",
      "Epoch 24/32\n",
      "404/404 [==============================] - 0s 338us/step - loss: 45.6693 - val_loss: 34.0236\n",
      "Epoch 25/32\n",
      "404/404 [==============================] - 0s 332us/step - loss: 45.0483 - val_loss: 53.8853\n",
      "Epoch 26/32\n",
      "404/404 [==============================] - 0s 344us/step - loss: 43.2024 - val_loss: 41.8507\n",
      "Epoch 27/32\n",
      "404/404 [==============================] - 0s 336us/step - loss: 45.9664 - val_loss: 33.3447\n",
      "Epoch 28/32\n",
      "404/404 [==============================] - 0s 342us/step - loss: 40.6858 - val_loss: 29.7520\n",
      "Epoch 29/32\n",
      "404/404 [==============================] - 0s 356us/step - loss: 45.2061 - val_loss: 35.9274\n",
      "Epoch 30/32\n",
      "404/404 [==============================] - 0s 346us/step - loss: 44.8171 - val_loss: 37.0451\n",
      "Epoch 31/32\n",
      "404/404 [==============================] - 0s 347us/step - loss: 40.0274 - val_loss: 23.0818\n",
      "Epoch 32/32\n",
      "404/404 [==============================] - 0s 334us/step - loss: 40.4907 - val_loss: 29.5156\n"
     ]
    },
    {
     "data": {
      "text/plain": [
       "<keras.callbacks.History at 0x7f9c9ac43be0>"
      ]
     },
     "execution_count": 6,
     "metadata": {},
     "output_type": "execute_result"
    }
   ],
   "source": [
    "model = Sequential()\n",
    "\n",
    "model.add(Dense(32, input_dim=13, activation='relu'))\n",
    "model.add(BatchNormalization())\n",
    "\n",
    "model.add(Dense(16, activation='relu'))\n",
    "model.add(BatchNormalization())\n",
    "model.add(Dropout(0.2))\n",
    "\n",
    "model.add(Dense(1, activation='linear'))\n",
    "\n",
    "model.compile(loss='mean_squared_error', optimizer='adam')\n",
    "\n",
    "model.fit(X_train, y_train,\n",
    "         batch_size=8, epochs=32, verbose=1,\n",
    "         validation_data=(X_valid, y_valid))"
   ]
  },
  {
   "cell_type": "code",
   "execution_count": 8,
   "metadata": {},
   "outputs": [],
   "source": [
    "import numpy as np"
   ]
  },
  {
   "cell_type": "code",
   "execution_count": 9,
   "metadata": {},
   "outputs": [
    {
     "data": {
      "text/plain": [
       "array([[ 17.89472961]], dtype=float32)"
      ]
     },
     "execution_count": 9,
     "metadata": {},
     "output_type": "execute_result"
    }
   ],
   "source": [
    "model.predict(np.reshape(X_valid[42], [1, 13]))"
   ]
  }
 ],
 "metadata": {
  "kernelspec": {
   "display_name": "Python 3",
   "language": "python",
   "name": "python3"
  },
  "language_info": {
   "codemirror_mode": {
    "name": "ipython",
    "version": 3
   },
   "file_extension": ".py",
   "mimetype": "text/x-python",
   "name": "python",
   "nbconvert_exporter": "python",
   "pygments_lexer": "ipython3",
   "version": "3.6.5"
  }
 },
 "nbformat": 4,
 "nbformat_minor": 2
}

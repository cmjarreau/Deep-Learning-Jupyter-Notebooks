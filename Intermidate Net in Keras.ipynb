{
 "cells": [
  {
   "cell_type": "code",
   "execution_count": 2,
   "metadata": {},
   "outputs": [
    {
     "name": "stdout",
     "output_type": "stream",
     "text": [
      "_________________________________________________________________\n",
      "Layer (type)                 Output Shape              Param #   \n",
      "=================================================================\n",
      "dense_1 (Dense)              (None, 64)                50240     \n",
      "_________________________________________________________________\n",
      "dense_2 (Dense)              (None, 64)                4160      \n",
      "_________________________________________________________________\n",
      "dense_3 (Dense)              (None, 10)                650       \n",
      "=================================================================\n",
      "Total params: 55,050\n",
      "Trainable params: 55,050\n",
      "Non-trainable params: 0\n",
      "_________________________________________________________________\n"
     ]
    }
   ],
   "source": [
    "import keras\n",
    "from keras.datasets import mnist\n",
    "from keras.models import Sequential\n",
    "from keras.layers import Dense\n",
    "from keras.optimizers import SGD\n",
    "from matplotlib import pyplot as plt\n",
    "\n",
    "(X_train, y_train), (X_valid, y_valid) = mnist.load_data()\n",
    "\n",
    "X_train = X_train.reshape(60000, 784).astype('float32')\n",
    "X_valid = X_valid.reshape(10000, 784).astype('float32')\n",
    "X_train /= 255\n",
    "X_valid /=255\n",
    "\n",
    "n_classes = 10\n",
    "y_train = keras.utils.to_categorical(y_train, n_classes)\n",
    "y_valid = keras.utils.to_categorical(y_valid, n_classes)\n",
    "\n",
    "model = Sequential()\n",
    "model.add(Dense(64, activation='relu', input_shape=(784, )))\n",
    "model.add(Dense(64, activation='relu'))\n",
    "model.add(Dense(10, activation='softmax'))\n",
    "\n",
    "model.summary()"
   ]
  },
  {
   "cell_type": "code",
   "execution_count": 4,
   "metadata": {},
   "outputs": [
    {
     "name": "stdout",
     "output_type": "stream",
     "text": [
      "Train on 60000 samples, validate on 10000 samples\n",
      "Epoch 1/40\n",
      "60000/60000 [==============================] - 1s 22us/step - loss: 0.0306 - acc: 0.9909 - val_loss: 0.0839 - val_acc: 0.9737\n",
      "Epoch 2/40\n",
      "60000/60000 [==============================] - 1s 20us/step - loss: 0.0283 - acc: 0.9919 - val_loss: 0.0832 - val_acc: 0.9736\n",
      "Epoch 3/40\n",
      "60000/60000 [==============================] - 1s 21us/step - loss: 0.0263 - acc: 0.9927 - val_loss: 0.0866 - val_acc: 0.9737\n",
      "Epoch 4/40\n",
      "60000/60000 [==============================] - 1s 21us/step - loss: 0.0243 - acc: 0.9930 - val_loss: 0.0813 - val_acc: 0.9761\n",
      "Epoch 5/40\n",
      "60000/60000 [==============================] - 1s 20us/step - loss: 0.0229 - acc: 0.9936 - val_loss: 0.0820 - val_acc: 0.9762\n",
      "Epoch 6/40\n",
      "60000/60000 [==============================] - 1s 21us/step - loss: 0.0208 - acc: 0.9946 - val_loss: 0.0806 - val_acc: 0.9751\n",
      "Epoch 7/40\n",
      "60000/60000 [==============================] - 1s 20us/step - loss: 0.0190 - acc: 0.9955 - val_loss: 0.0882 - val_acc: 0.9741\n",
      "Epoch 8/40\n",
      "60000/60000 [==============================] - 1s 20us/step - loss: 0.0177 - acc: 0.9959 - val_loss: 0.0818 - val_acc: 0.9772\n",
      "Epoch 9/40\n",
      "60000/60000 [==============================] - 1s 21us/step - loss: 0.0164 - acc: 0.9962 - val_loss: 0.0828 - val_acc: 0.9763\n",
      "Epoch 10/40\n",
      "60000/60000 [==============================] - 1s 20us/step - loss: 0.0152 - acc: 0.9966 - val_loss: 0.0847 - val_acc: 0.9756\n",
      "Epoch 11/40\n",
      "60000/60000 [==============================] - 1s 20us/step - loss: 0.0138 - acc: 0.9972 - val_loss: 0.0872 - val_acc: 0.9754\n",
      "Epoch 12/40\n",
      "60000/60000 [==============================] - 1s 20us/step - loss: 0.0129 - acc: 0.9976 - val_loss: 0.0864 - val_acc: 0.9763\n",
      "Epoch 13/40\n",
      "60000/60000 [==============================] - 1s 20us/step - loss: 0.0120 - acc: 0.9977 - val_loss: 0.0862 - val_acc: 0.9756\n",
      "Epoch 14/40\n",
      "60000/60000 [==============================] - 1s 20us/step - loss: 0.0115 - acc: 0.9980 - val_loss: 0.0864 - val_acc: 0.9762\n",
      "Epoch 15/40\n",
      "60000/60000 [==============================] - 1s 20us/step - loss: 0.0103 - acc: 0.9983 - val_loss: 0.0901 - val_acc: 0.9744\n",
      "Epoch 16/40\n",
      "60000/60000 [==============================] - 1s 20us/step - loss: 0.0093 - acc: 0.9984 - val_loss: 0.0899 - val_acc: 0.9752\n",
      "Epoch 17/40\n",
      "60000/60000 [==============================] - 1s 20us/step - loss: 0.0087 - acc: 0.9988 - val_loss: 0.0931 - val_acc: 0.9755\n",
      "Epoch 18/40\n",
      "60000/60000 [==============================] - 1s 20us/step - loss: 0.0080 - acc: 0.9989 - val_loss: 0.0960 - val_acc: 0.9749\n",
      "Epoch 19/40\n",
      "60000/60000 [==============================] - 1s 20us/step - loss: 0.0077 - acc: 0.9990 - val_loss: 0.0905 - val_acc: 0.9762\n",
      "Epoch 20/40\n",
      "60000/60000 [==============================] - 1s 20us/step - loss: 0.0069 - acc: 0.9993 - val_loss: 0.0941 - val_acc: 0.9750\n",
      "Epoch 21/40\n",
      "60000/60000 [==============================] - 1s 20us/step - loss: 0.0066 - acc: 0.9993 - val_loss: 0.0918 - val_acc: 0.9764\n",
      "Epoch 22/40\n",
      "60000/60000 [==============================] - 1s 20us/step - loss: 0.0058 - acc: 0.9996 - val_loss: 0.0934 - val_acc: 0.9760\n",
      "Epoch 23/40\n",
      "60000/60000 [==============================] - 1s 20us/step - loss: 0.0055 - acc: 0.9996 - val_loss: 0.0974 - val_acc: 0.9762\n",
      "Epoch 24/40\n",
      "60000/60000 [==============================] - 1s 20us/step - loss: 0.0052 - acc: 0.9996 - val_loss: 0.0932 - val_acc: 0.9769\n",
      "Epoch 25/40\n",
      "60000/60000 [==============================] - 1s 20us/step - loss: 0.0048 - acc: 0.9997 - val_loss: 0.0953 - val_acc: 0.9764\n",
      "Epoch 26/40\n",
      "60000/60000 [==============================] - 1s 20us/step - loss: 0.0046 - acc: 0.9997 - val_loss: 0.1028 - val_acc: 0.9739\n",
      "Epoch 27/40\n",
      "60000/60000 [==============================] - 1s 20us/step - loss: 0.0045 - acc: 0.9997 - val_loss: 0.0955 - val_acc: 0.9764\n",
      "Epoch 28/40\n",
      "60000/60000 [==============================] - 1s 20us/step - loss: 0.0041 - acc: 0.9998 - val_loss: 0.0953 - val_acc: 0.9764\n",
      "Epoch 29/40\n",
      "60000/60000 [==============================] - 1s 20us/step - loss: 0.0039 - acc: 0.9998 - val_loss: 0.0997 - val_acc: 0.9763\n",
      "Epoch 30/40\n",
      "60000/60000 [==============================] - 1s 20us/step - loss: 0.0036 - acc: 0.9999 - val_loss: 0.0986 - val_acc: 0.9764\n",
      "Epoch 31/40\n",
      "60000/60000 [==============================] - 1s 21us/step - loss: 0.0035 - acc: 0.9999 - val_loss: 0.0970 - val_acc: 0.9767\n",
      "Epoch 32/40\n",
      "60000/60000 [==============================] - 1s 20us/step - loss: 0.0033 - acc: 0.9999 - val_loss: 0.0973 - val_acc: 0.9764\n",
      "Epoch 33/40\n",
      "60000/60000 [==============================] - 1s 21us/step - loss: 0.0032 - acc: 0.9999 - val_loss: 0.0988 - val_acc: 0.9766\n",
      "Epoch 34/40\n",
      "60000/60000 [==============================] - 1s 20us/step - loss: 0.0030 - acc: 0.9999 - val_loss: 0.1013 - val_acc: 0.9758\n",
      "Epoch 35/40\n",
      "60000/60000 [==============================] - 1s 21us/step - loss: 0.0029 - acc: 0.9999 - val_loss: 0.1006 - val_acc: 0.9766\n",
      "Epoch 36/40\n",
      "60000/60000 [==============================] - 1s 20us/step - loss: 0.0028 - acc: 0.9999 - val_loss: 0.0995 - val_acc: 0.9763\n",
      "Epoch 37/40\n",
      "60000/60000 [==============================] - 1s 20us/step - loss: 0.0027 - acc: 1.0000 - val_loss: 0.1020 - val_acc: 0.9761\n",
      "Epoch 38/40\n",
      "60000/60000 [==============================] - 1s 20us/step - loss: 0.0026 - acc: 1.0000 - val_loss: 0.1022 - val_acc: 0.9764\n",
      "Epoch 39/40\n",
      "60000/60000 [==============================] - 1s 20us/step - loss: 0.0025 - acc: 1.0000 - val_loss: 0.1016 - val_acc: 0.9761\n",
      "Epoch 40/40\n",
      "60000/60000 [==============================] - 1s 20us/step - loss: 0.0024 - acc: 1.0000 - val_loss: 0.1023 - val_acc: 0.9764\n"
     ]
    },
    {
     "data": {
      "text/plain": [
       "<keras.callbacks.History at 0x7f22f7e4aa58>"
      ]
     },
     "execution_count": 4,
     "metadata": {},
     "output_type": "execute_result"
    }
   ],
   "source": [
    "model.compile(loss='categorical_crossentropy',\n",
    "              optimizer=SGD(lr=0.1),\n",
    "              metrics=['accuracy'])\n",
    "\n",
    "model.fit(X_train, y_train,\n",
    "         batch_size=128, epochs=40,\n",
    "         verbose=1,\n",
    "         validation_data=(X_valid, y_valid))"
   ]
  }
 ],
 "metadata": {
  "kernelspec": {
   "display_name": "Python 3",
   "language": "python",
   "name": "python3"
  },
  "language_info": {
   "codemirror_mode": {
    "name": "ipython",
    "version": 3
   },
   "file_extension": ".py",
   "mimetype": "text/x-python",
   "name": "python",
   "nbconvert_exporter": "python",
   "pygments_lexer": "ipython3",
   "version": "3.6.5"
  }
 },
 "nbformat": 4,
 "nbformat_minor": 2
}

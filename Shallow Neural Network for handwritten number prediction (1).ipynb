{
 "cells": [
  {
   "cell_type": "code",
   "execution_count": 1,
   "metadata": {},
   "outputs": [
    {
     "name": "stderr",
     "output_type": "stream",
     "text": [
      "Using TensorFlow backend.\n"
     ]
    }
   ],
   "source": [
    "import keras\n",
    "from keras.datasets import mnist\n",
    "from keras.models import Sequential\n",
    "from keras.layers import Dense\n",
    "from keras.optimizers import SGD\n",
    "from matplotlib import pyplot as plt"
   ]
  },
  {
   "cell_type": "code",
   "execution_count": 2,
   "metadata": {},
   "outputs": [],
   "source": [
    "(X_train, y_train), (X_valid, y_valid) = mnist.load_data()"
   ]
  },
  {
   "cell_type": "markdown",
   "metadata": {},
   "source": [
    "contains 60000 samples of number pictures that are 28x28 that we will train the model on"
   ]
  },
  {
   "cell_type": "code",
   "execution_count": 4,
   "metadata": {},
   "outputs": [
    {
     "data": {
      "text/plain": [
       "(60000, 28, 28)"
      ]
     },
     "execution_count": 4,
     "metadata": {},
     "output_type": "execute_result"
    }
   ],
   "source": [
    "X_train.shape"
   ]
  },
  {
   "cell_type": "markdown",
   "metadata": {},
   "source": [
    "labels indicating what digit is contained in the 60000 training images"
   ]
  },
  {
   "cell_type": "code",
   "execution_count": 6,
   "metadata": {},
   "outputs": [
    {
     "data": {
      "text/plain": [
       "(60000,)"
      ]
     },
     "execution_count": 6,
     "metadata": {},
     "output_type": "execute_result"
    }
   ],
   "source": [
    "y_train.shape"
   ]
  },
  {
   "cell_type": "markdown",
   "metadata": {},
   "source": [
    "first dozen labels:"
   ]
  },
  {
   "cell_type": "code",
   "execution_count": 8,
   "metadata": {},
   "outputs": [
    {
     "data": {
      "text/plain": [
       "array([5, 0, 4, 1, 9, 2, 1, 3, 1, 4, 3, 5], dtype=uint8)"
      ]
     },
     "execution_count": 8,
     "metadata": {},
     "output_type": "execute_result"
    }
   ],
   "source": [
    "y_train[0:12]"
   ]
  },
  {
   "cell_type": "markdown",
   "metadata": {},
   "source": [
    "so this tells us that:\n",
    "  first handwritten digit in the training set (X_train[0]) is 5\n",
    "  second handwritten digit in the training set (X_train[1]) is 0\n",
    "  third handwritten digit in the training set (X_train[2]) is 4\n",
    "  ..."
   ]
  },
  {
   "cell_type": "code",
   "execution_count": 36,
   "metadata": {},
   "outputs": [
    {
     "data": {
      "image/png": "[encoded data removed]",
      "text/plain": [
       "<matplotlib.figure.Figure at 0x7faeb0712b00>"
      ]
     },
     "metadata": {},
     "output_type": "display_data"
    }
   ],
   "source": [
    "plt.figure(figsize=(5,5))\n",
    "for k in range(12):\n",
    "    plt.subplot(3,4,k+1)\n",
    "    plt.imshow(X_train[k], cmap='Greys')\n",
    "    plt.axis('off')\n",
    "plt.tight_layout()\n",
    "plt.show()"
   ]
  },
  {
   "cell_type": "markdown",
   "metadata": {},
   "source": [
    "validation data"
   ]
  },
  {
   "cell_type": "code",
   "execution_count": 37,
   "metadata": {},
   "outputs": [
    {
     "data": {
      "text/plain": [
       "((10000, 28, 28), (10000,))"
      ]
     },
     "execution_count": 37,
     "metadata": {},
     "output_type": "execute_result"
    }
   ],
   "source": [
    "(X_valid.shape, y_valid.shape)"
   ]
  },
  {
   "cell_type": "markdown",
   "metadata": {},
   "source": [
    "labeled validation data"
   ]
  },
  {
   "cell_type": "code",
   "execution_count": 40,
   "metadata": {},
   "outputs": [
    {
     "data": {
      "image/png": "[encoded data removed]",
      "text/plain": [
       "<matplotlib.figure.Figure at 0x7faeb02dfe48>"
      ]
     },
     "metadata": {},
     "output_type": "display_data"
    }
   ],
   "source": [
    "plt.figure(figsize=(5,5))\n",
    "for k in range(12):\n",
    "    plt.subplot(3,4,k+1)\n",
    "    plt.imshow(X_valid[k], cmap='Greys')\n",
    "    plt.axis('off')\n",
    "plt.tight_layout()\n",
    "plt.show()"
   ]
  },
  {
   "cell_type": "code",
   "execution_count": 45,
   "metadata": {},
   "outputs": [
    {
     "data": {
      "text/plain": [
       "array([[  0,   0,   0,   0,   0,   0,   0,   0,   0,   0,   0,   0,   0,\n",
       "          0,   0,   0,   0,   0,   0,   0,   0,   0,   0,   0,   0,   0,\n",
       "          0,   0],\n",
       "       [  0,   0,   0,   0,   0,   0,   0,   0,   0,   0,   0,   0,   0,\n",
       "          0,   0,   0,   0,   0,   0,   0,   0,   0,   0,   0,   0,   0,\n",
       "          0,   0],\n",
       "       [  0,   0,   0,   0,   0,   0,   0,   0,   0,   0,   0,   0,   0,\n",
       "          0,   0,   0,   0,   0,   0,   0,   0,   0,   0,   0,   0,   0,\n",
       "          0,   0],\n",
       "       [  0,   0,   0,   0,   0,   0,   0,   0,   0,   0,   0,   0,   0,\n",
       "          0,   0,   0,   0,   0,   0,   0,   0,   0,   0,   0,   0,   0,\n",
       "          0,   0],\n",
       "       [  0,   0,   0,   0,   0,   0,   0,   0,   0,   0,   0,   0,   0,\n",
       "          0,   0,   0,   0,   0,   0,   0,   0,   0,   0,   0,   0,   0,\n",
       "          0,   0],\n",
       "       [  0,   0,   0,   0,   0,   0,   0,   0,   0,   0,   0,   0,   0,\n",
       "          0,   0,   0,   0,   0,   0,   0,   0,   0,   0,   0,   0,   0,\n",
       "          0,   0],\n",
       "       [  0,   0,   0,   0,   0,   0,   0,   0,   0,   0,   0,   0,   0,\n",
       "          0,   0,   0,   0,   0,   0,   0,   0,   0,   0,   0,   0,   0,\n",
       "          0,   0],\n",
       "       [  0,   0,   0,   0,   0,   0,  84, 185, 159, 151,  60,  36,   0,\n",
       "          0,   0,   0,   0,   0,   0,   0,   0,   0,   0,   0,   0,   0,\n",
       "          0,   0],\n",
       "       [  0,   0,   0,   0,   0,   0, 222, 254, 254, 254, 254, 241, 198,\n",
       "        198, 198, 198, 198, 198, 198, 198, 170,  52,   0,   0,   0,   0,\n",
       "          0,   0],\n",
       "       [  0,   0,   0,   0,   0,   0,  67, 114,  72, 114, 163, 227, 254,\n",
       "        225, 254, 254, 254, 250, 229, 254, 254, 140,   0,   0,   0,   0,\n",
       "          0,   0],\n",
       "       [  0,   0,   0,   0,   0,   0,   0,   0,   0,   0,   0,  17,  66,\n",
       "         14,  67,  67,  67,  59,  21, 236, 254, 106,   0,   0,   0,   0,\n",
       "          0,   0],\n",
       "       [  0,   0,   0,   0,   0,   0,   0,   0,   0,   0,   0,   0,   0,\n",
       "          0,   0,   0,   0,   0,  83, 253, 209,  18,   0,   0,   0,   0,\n",
       "          0,   0],\n",
       "       [  0,   0,   0,   0,   0,   0,   0,   0,   0,   0,   0,   0,   0,\n",
       "          0,   0,   0,   0,  22, 233, 255,  83,   0,   0,   0,   0,   0,\n",
       "          0,   0],\n",
       "       [  0,   0,   0,   0,   0,   0,   0,   0,   0,   0,   0,   0,   0,\n",
       "          0,   0,   0,   0, 129, 254, 238,  44,   0,   0,   0,   0,   0,\n",
       "          0,   0],\n",
       "       [  0,   0,   0,   0,   0,   0,   0,   0,   0,   0,   0,   0,   0,\n",
       "          0,   0,   0,  59, 249, 254,  62,   0,   0,   0,   0,   0,   0,\n",
       "          0,   0],\n",
       "       [  0,   0,   0,   0,   0,   0,   0,   0,   0,   0,   0,   0,   0,\n",
       "          0,   0,   0, 133, 254, 187,   5,   0,   0,   0,   0,   0,   0,\n",
       "          0,   0],\n",
       "       [  0,   0,   0,   0,   0,   0,   0,   0,   0,   0,   0,   0,   0,\n",
       "          0,   0,   9, 205, 248,  58,   0,   0,   0,   0,   0,   0,   0,\n",
       "          0,   0],\n",
       "       [  0,   0,   0,   0,   0,   0,   0,   0,   0,   0,   0,   0,   0,\n",
       "          0,   0, 126, 254, 182,   0,   0,   0,   0,   0,   0,   0,   0,\n",
       "          0,   0],\n",
       "       [  0,   0,   0,   0,   0,   0,   0,   0,   0,   0,   0,   0,   0,\n",
       "          0,  75, 251, 240,  57,   0,   0,   0,   0,   0,   0,   0,   0,\n",
       "          0,   0],\n",
       "       [  0,   0,   0,   0,   0,   0,   0,   0,   0,   0,   0,   0,   0,\n",
       "         19, 221, 254, 166,   0,   0,   0,   0,   0,   0,   0,   0,   0,\n",
       "          0,   0],\n",
       "       [  0,   0,   0,   0,   0,   0,   0,   0,   0,   0,   0,   0,   3,\n",
       "        203, 254, 219,  35,   0,   0,   0,   0,   0,   0,   0,   0,   0,\n",
       "          0,   0],\n",
       "       [  0,   0,   0,   0,   0,   0,   0,   0,   0,   0,   0,   0,  38,\n",
       "        254, 254,  77,   0,   0,   0,   0,   0,   0,   0,   0,   0,   0,\n",
       "          0,   0],\n",
       "       [  0,   0,   0,   0,   0,   0,   0,   0,   0,   0,   0,  31, 224,\n",
       "        254, 115,   1,   0,   0,   0,   0,   0,   0,   0,   0,   0,   0,\n",
       "          0,   0],\n",
       "       [  0,   0,   0,   0,   0,   0,   0,   0,   0,   0,   0, 133, 254,\n",
       "        254,  52,   0,   0,   0,   0,   0,   0,   0,   0,   0,   0,   0,\n",
       "          0,   0],\n",
       "       [  0,   0,   0,   0,   0,   0,   0,   0,   0,   0,  61, 242, 254,\n",
       "        254,  52,   0,   0,   0,   0,   0,   0,   0,   0,   0,   0,   0,\n",
       "          0,   0],\n",
       "       [  0,   0,   0,   0,   0,   0,   0,   0,   0,   0, 121, 254, 254,\n",
       "        219,  40,   0,   0,   0,   0,   0,   0,   0,   0,   0,   0,   0,\n",
       "          0,   0],\n",
       "       [  0,   0,   0,   0,   0,   0,   0,   0,   0,   0, 121, 254, 207,\n",
       "         18,   0,   0,   0,   0,   0,   0,   0,   0,   0,   0,   0,   0,\n",
       "          0,   0],\n",
       "       [  0,   0,   0,   0,   0,   0,   0,   0,   0,   0,   0,   0,   0,\n",
       "          0,   0,   0,   0,   0,   0,   0,   0,   0,   0,   0,   0,   0,\n",
       "          0,   0]], dtype=uint8)"
      ]
     },
     "execution_count": 45,
     "metadata": {},
     "output_type": "execute_result"
    }
   ],
   "source": [
    "X_valid[0]"
   ]
  },
  {
   "cell_type": "code",
   "execution_count": 46,
   "metadata": {},
   "outputs": [
    {
     "data": {
      "text/plain": [
       "7"
      ]
     },
     "execution_count": 46,
     "metadata": {},
     "output_type": "execute_result"
    }
   ],
   "source": [
    "y_valid[0]"
   ]
  },
  {
   "cell_type": "markdown",
   "metadata": {},
   "source": [
    "flatten the 60000 2D arrays to a 1D array of 784 elements each"
   ]
  },
  {
   "cell_type": "code",
   "execution_count": 49,
   "metadata": {},
   "outputs": [],
   "source": [
    "X_train = X_train.reshape(60000, 784).astype('float32')\n",
    "X_valid = X_valid.reshape(10000, 784).astype('float32')"
   ]
  },
  {
   "cell_type": "markdown",
   "metadata": {},
   "source": [
    "normalize the data"
   ]
  },
  {
   "cell_type": "code",
   "execution_count": 50,
   "metadata": {},
   "outputs": [],
   "source": [
    "X_train /= 255\n",
    "X_valid /= 255"
   ]
  },
  {
   "cell_type": "code",
   "execution_count": 51,
   "metadata": {},
   "outputs": [
    {
     "data": {
      "text/plain": [
       "array([ 0.        ,  0.        ,  0.        ,  0.        ,  0.        ,\n",
       "        0.        ,  0.        ,  0.        ,  0.        ,  0.        ,\n",
       "        0.        ,  0.        ,  0.        ,  0.        ,  0.        ,\n",
       "        0.        ,  0.        ,  0.        ,  0.        ,  0.        ,\n",
       "        0.        ,  0.        ,  0.        ,  0.        ,  0.        ,\n",
       "        0.        ,  0.        ,  0.        ,  0.        ,  0.        ,\n",
       "        0.        ,  0.        ,  0.        ,  0.        ,  0.        ,\n",
       "        0.        ,  0.        ,  0.        ,  0.        ,  0.        ,\n",
       "        0.        ,  0.        ,  0.        ,  0.        ,  0.        ,\n",
       "        0.        ,  0.        ,  0.        ,  0.        ,  0.        ,\n",
       "        0.        ,  0.        ,  0.        ,  0.        ,  0.        ,\n",
       "        0.        ,  0.        ,  0.        ,  0.        ,  0.        ,\n",
       "        0.        ,  0.        ,  0.        ,  0.        ,  0.        ,\n",
       "        0.        ,  0.        ,  0.        ,  0.        ,  0.        ,\n",
       "        0.        ,  0.        ,  0.        ,  0.        ,  0.        ,\n",
       "        0.        ,  0.        ,  0.        ,  0.        ,  0.        ,\n",
       "        0.        ,  0.        ,  0.        ,  0.        ,  0.        ,\n",
       "        0.        ,  0.        ,  0.        ,  0.        ,  0.        ,\n",
       "        0.        ,  0.        ,  0.        ,  0.        ,  0.        ,\n",
       "        0.        ,  0.        ,  0.        ,  0.        ,  0.        ,\n",
       "        0.        ,  0.        ,  0.        ,  0.        ,  0.        ,\n",
       "        0.        ,  0.        ,  0.        ,  0.        ,  0.        ,\n",
       "        0.        ,  0.        ,  0.        ,  0.        ,  0.        ,\n",
       "        0.        ,  0.        ,  0.        ,  0.        ,  0.        ,\n",
       "        0.        ,  0.        ,  0.        ,  0.        ,  0.        ,\n",
       "        0.        ,  0.        ,  0.        ,  0.        ,  0.        ,\n",
       "        0.        ,  0.        ,  0.        ,  0.        ,  0.        ,\n",
       "        0.        ,  0.        ,  0.        ,  0.        ,  0.        ,\n",
       "        0.        ,  0.        ,  0.        ,  0.        ,  0.        ,\n",
       "        0.        ,  0.        ,  0.        ,  0.        ,  0.        ,\n",
       "        0.        ,  0.        ,  0.        ,  0.        ,  0.        ,\n",
       "        0.        ,  0.        ,  0.        ,  0.        ,  0.        ,\n",
       "        0.        ,  0.        ,  0.        ,  0.        ,  0.        ,\n",
       "        0.        ,  0.        ,  0.        ,  0.        ,  0.        ,\n",
       "        0.        ,  0.        ,  0.        ,  0.        ,  0.        ,\n",
       "        0.        ,  0.        ,  0.        ,  0.        ,  0.        ,\n",
       "        0.        ,  0.        ,  0.        ,  0.        ,  0.        ,\n",
       "        0.        ,  0.        ,  0.        ,  0.        ,  0.        ,\n",
       "        0.        ,  0.        ,  0.        ,  0.        ,  0.        ,\n",
       "        0.        ,  0.        ,  0.        ,  0.        ,  0.        ,\n",
       "        0.        ,  0.        ,  0.32941177,  0.72549021,  0.62352943,\n",
       "        0.59215689,  0.23529412,  0.14117648,  0.        ,  0.        ,\n",
       "        0.        ,  0.        ,  0.        ,  0.        ,  0.        ,\n",
       "        0.        ,  0.        ,  0.        ,  0.        ,  0.        ,\n",
       "        0.        ,  0.        ,  0.        ,  0.        ,  0.        ,\n",
       "        0.        ,  0.        ,  0.        ,  0.        ,  0.        ,\n",
       "        0.87058824,  0.99607843,  0.99607843,  0.99607843,  0.99607843,\n",
       "        0.94509804,  0.7764706 ,  0.7764706 ,  0.7764706 ,  0.7764706 ,\n",
       "        0.7764706 ,  0.7764706 ,  0.7764706 ,  0.7764706 ,  0.66666669,\n",
       "        0.20392157,  0.        ,  0.        ,  0.        ,  0.        ,\n",
       "        0.        ,  0.        ,  0.        ,  0.        ,  0.        ,\n",
       "        0.        ,  0.        ,  0.        ,  0.26274511,  0.44705883,\n",
       "        0.28235295,  0.44705883,  0.63921571,  0.89019608,  0.99607843,\n",
       "        0.88235295,  0.99607843,  0.99607843,  0.99607843,  0.98039216,\n",
       "        0.89803922,  0.99607843,  0.99607843,  0.54901963,  0.        ,\n",
       "        0.        ,  0.        ,  0.        ,  0.        ,  0.        ,\n",
       "        0.        ,  0.        ,  0.        ,  0.        ,  0.        ,\n",
       "        0.        ,  0.        ,  0.        ,  0.        ,  0.        ,\n",
       "        0.        ,  0.06666667,  0.25882354,  0.05490196,  0.26274511,\n",
       "        0.26274511,  0.26274511,  0.23137255,  0.08235294,  0.9254902 ,\n",
       "        0.99607843,  0.41568628,  0.        ,  0.        ,  0.        ,\n",
       "        0.        ,  0.        ,  0.        ,  0.        ,  0.        ,\n",
       "        0.        ,  0.        ,  0.        ,  0.        ,  0.        ,\n",
       "        0.        ,  0.        ,  0.        ,  0.        ,  0.        ,\n",
       "        0.        ,  0.        ,  0.        ,  0.        ,  0.        ,\n",
       "        0.        ,  0.32549021,  0.99215686,  0.81960785,  0.07058824,\n",
       "        0.        ,  0.        ,  0.        ,  0.        ,  0.        ,\n",
       "        0.        ,  0.        ,  0.        ,  0.        ,  0.        ,\n",
       "        0.        ,  0.        ,  0.        ,  0.        ,  0.        ,\n",
       "        0.        ,  0.        ,  0.        ,  0.        ,  0.        ,\n",
       "        0.        ,  0.        ,  0.        ,  0.08627451,  0.9137255 ,\n",
       "        1.        ,  0.32549021,  0.        ,  0.        ,  0.        ,\n",
       "        0.        ,  0.        ,  0.        ,  0.        ,  0.        ,\n",
       "        0.        ,  0.        ,  0.        ,  0.        ,  0.        ,\n",
       "        0.        ,  0.        ,  0.        ,  0.        ,  0.        ,\n",
       "        0.        ,  0.        ,  0.        ,  0.        ,  0.        ,\n",
       "        0.        ,  0.50588238,  0.99607843,  0.93333334,  0.17254902,\n",
       "        0.        ,  0.        ,  0.        ,  0.        ,  0.        ,\n",
       "        0.        ,  0.        ,  0.        ,  0.        ,  0.        ,\n",
       "        0.        ,  0.        ,  0.        ,  0.        ,  0.        ,\n",
       "        0.        ,  0.        ,  0.        ,  0.        ,  0.        ,\n",
       "        0.        ,  0.        ,  0.        ,  0.23137255,  0.97647059,\n",
       "        0.99607843,  0.24313726,  0.        ,  0.        ,  0.        ,\n",
       "        0.        ,  0.        ,  0.        ,  0.        ,  0.        ,\n",
       "        0.        ,  0.        ,  0.        ,  0.        ,  0.        ,\n",
       "        0.        ,  0.        ,  0.        ,  0.        ,  0.        ,\n",
       "        0.        ,  0.        ,  0.        ,  0.        ,  0.        ,\n",
       "        0.        ,  0.52156866,  0.99607843,  0.73333335,  0.01960784,\n",
       "        0.        ,  0.        ,  0.        ,  0.        ,  0.        ,\n",
       "        0.        ,  0.        ,  0.        ,  0.        ,  0.        ,\n",
       "        0.        ,  0.        ,  0.        ,  0.        ,  0.        ,\n",
       "        0.        ,  0.        ,  0.        ,  0.        ,  0.        ,\n",
       "        0.        ,  0.        ,  0.        ,  0.03529412,  0.80392158,\n",
       "        0.97254902,  0.22745098,  0.        ,  0.        ,  0.        ,\n",
       "        0.        ,  0.        ,  0.        ,  0.        ,  0.        ,\n",
       "        0.        ,  0.        ,  0.        ,  0.        ,  0.        ,\n",
       "        0.        ,  0.        ,  0.        ,  0.        ,  0.        ,\n",
       "        0.        ,  0.        ,  0.        ,  0.        ,  0.        ,\n",
       "        0.        ,  0.49411765,  0.99607843,  0.71372551,  0.        ,\n",
       "        0.        ,  0.        ,  0.        ,  0.        ,  0.        ,\n",
       "        0.        ,  0.        ,  0.        ,  0.        ,  0.        ,\n",
       "        0.        ,  0.        ,  0.        ,  0.        ,  0.        ,\n",
       "        0.        ,  0.        ,  0.        ,  0.        ,  0.        ,\n",
       "        0.        ,  0.        ,  0.        ,  0.29411766,  0.98431373,\n",
       "        0.94117647,  0.22352941,  0.        ,  0.        ,  0.        ,\n",
       "        0.        ,  0.        ,  0.        ,  0.        ,  0.        ,\n",
       "        0.        ,  0.        ,  0.        ,  0.        ,  0.        ,\n",
       "        0.        ,  0.        ,  0.        ,  0.        ,  0.        ,\n",
       "        0.        ,  0.        ,  0.        ,  0.        ,  0.        ,\n",
       "        0.07450981,  0.86666667,  0.99607843,  0.65098041,  0.        ,\n",
       "        0.        ,  0.        ,  0.        ,  0.        ,  0.        ,\n",
       "        0.        ,  0.        ,  0.        ,  0.        ,  0.        ,\n",
       "        0.        ,  0.        ,  0.        ,  0.        ,  0.        ,\n",
       "        0.        ,  0.        ,  0.        ,  0.        ,  0.        ,\n",
       "        0.        ,  0.        ,  0.01176471,  0.79607844,  0.99607843,\n",
       "        0.85882354,  0.13725491,  0.        ,  0.        ,  0.        ,\n",
       "        0.        ,  0.        ,  0.        ,  0.        ,  0.        ,\n",
       "        0.        ,  0.        ,  0.        ,  0.        ,  0.        ,\n",
       "        0.        ,  0.        ,  0.        ,  0.        ,  0.        ,\n",
       "        0.        ,  0.        ,  0.        ,  0.        ,  0.        ,\n",
       "        0.14901961,  0.99607843,  0.99607843,  0.3019608 ,  0.        ,\n",
       "        0.        ,  0.        ,  0.        ,  0.        ,  0.        ,\n",
       "        0.        ,  0.        ,  0.        ,  0.        ,  0.        ,\n",
       "        0.        ,  0.        ,  0.        ,  0.        ,  0.        ,\n",
       "        0.        ,  0.        ,  0.        ,  0.        ,  0.        ,\n",
       "        0.        ,  0.        ,  0.12156863,  0.87843138,  0.99607843,\n",
       "        0.4509804 ,  0.00392157,  0.        ,  0.        ,  0.        ,\n",
       "        0.        ,  0.        ,  0.        ,  0.        ,  0.        ,\n",
       "        0.        ,  0.        ,  0.        ,  0.        ,  0.        ,\n",
       "        0.        ,  0.        ,  0.        ,  0.        ,  0.        ,\n",
       "        0.        ,  0.        ,  0.        ,  0.        ,  0.        ,\n",
       "        0.52156866,  0.99607843,  0.99607843,  0.20392157,  0.        ,\n",
       "        0.        ,  0.        ,  0.        ,  0.        ,  0.        ,\n",
       "        0.        ,  0.        ,  0.        ,  0.        ,  0.        ,\n",
       "        0.        ,  0.        ,  0.        ,  0.        ,  0.        ,\n",
       "        0.        ,  0.        ,  0.        ,  0.        ,  0.        ,\n",
       "        0.        ,  0.        ,  0.23921569,  0.94901961,  0.99607843,\n",
       "        0.99607843,  0.20392157,  0.        ,  0.        ,  0.        ,\n",
       "        0.        ,  0.        ,  0.        ,  0.        ,  0.        ,\n",
       "        0.        ,  0.        ,  0.        ,  0.        ,  0.        ,\n",
       "        0.        ,  0.        ,  0.        ,  0.        ,  0.        ,\n",
       "        0.        ,  0.        ,  0.        ,  0.        ,  0.        ,\n",
       "        0.47450981,  0.99607843,  0.99607843,  0.85882354,  0.15686275,\n",
       "        0.        ,  0.        ,  0.        ,  0.        ,  0.        ,\n",
       "        0.        ,  0.        ,  0.        ,  0.        ,  0.        ,\n",
       "        0.        ,  0.        ,  0.        ,  0.        ,  0.        ,\n",
       "        0.        ,  0.        ,  0.        ,  0.        ,  0.        ,\n",
       "        0.        ,  0.        ,  0.        ,  0.47450981,  0.99607843,\n",
       "        0.81176472,  0.07058824,  0.        ,  0.        ,  0.        ,\n",
       "        0.        ,  0.        ,  0.        ,  0.        ,  0.        ,\n",
       "        0.        ,  0.        ,  0.        ,  0.        ,  0.        ,\n",
       "        0.        ,  0.        ,  0.        ,  0.        ,  0.        ,\n",
       "        0.        ,  0.        ,  0.        ,  0.        ,  0.        ,\n",
       "        0.        ,  0.        ,  0.        ,  0.        ,  0.        ,\n",
       "        0.        ,  0.        ,  0.        ,  0.        ,  0.        ,\n",
       "        0.        ,  0.        ,  0.        ,  0.        ,  0.        ,\n",
       "        0.        ,  0.        ,  0.        ,  0.        ], dtype=float32)"
      ]
     },
     "execution_count": 51,
     "metadata": {},
     "output_type": "execute_result"
    }
   ],
   "source": [
    "X_valid[0]"
   ]
  },
  {
   "cell_type": "markdown",
   "metadata": {},
   "source": [
    "convert the labels into 1-hot"
   ]
  },
  {
   "cell_type": "code",
   "execution_count": 52,
   "metadata": {},
   "outputs": [],
   "source": [
    "n_classes = 10\n",
    "y_train = keras.utils.to_categorical(y_train, n_classes)\n",
    "y_valid = keras.utils.to_categorical(y_valid, n_classes)"
   ]
  },
  {
   "cell_type": "markdown",
   "metadata": {},
   "source": [
    "there are 10 possible digits so set n_classes to 10\n",
    "to_categorical transforms the training and validation labels from integers to 1-hot form"
   ]
  },
  {
   "cell_type": "code",
   "execution_count": 53,
   "metadata": {},
   "outputs": [
    {
     "data": {
      "text/plain": [
       "array([ 0.,  0.,  0.,  0.,  0.,  0.,  0.,  1.,  0.,  0.], dtype=float32)"
      ]
     },
     "execution_count": 53,
     "metadata": {},
     "output_type": "execute_result"
    }
   ],
   "source": [
    "y_valid[0]"
   ]
  },
  {
   "cell_type": "code",
   "execution_count": 60,
   "metadata": {},
   "outputs": [],
   "source": [
    "model = Sequential()\n",
    "model.add(Dense(64, activation='sigmoid', input_shape=(784,)))\n",
    "model.add(Dense(10, activation='softmax'))"
   ]
  },
  {
   "cell_type": "code",
   "execution_count": 62,
   "metadata": {},
   "outputs": [],
   "source": [
    "model.compile(loss='mean_squared_error', optimizer=SGD(lr=0.01), metrics=['accuracy'])"
   ]
  },
  {
   "cell_type": "code",
   "execution_count": 63,
   "metadata": {},
   "outputs": [
    {
     "name": "stdout",
     "output_type": "stream",
     "text": [
      "Train on 60000 samples, validate on 10000 samples\n",
      "Epoch 1/200\n",
      "60000/60000 [==============================] - 1s 17us/step - loss: 0.0916 - acc: 0.1086 - val_loss: 0.0911 - val_acc: 0.1151\n",
      "Epoch 2/200\n",
      "60000/60000 [==============================] - 1s 16us/step - loss: 0.0909 - acc: 0.1207 - val_loss: 0.0905 - val_acc: 0.1332\n",
      "Epoch 3/200\n",
      "60000/60000 [==============================] - 1s 16us/step - loss: 0.0904 - acc: 0.1472 - val_loss: 0.0900 - val_acc: 0.1736\n",
      "Epoch 4/200\n",
      "60000/60000 [==============================] - 1s 16us/step - loss: 0.0899 - acc: 0.1897 - val_loss: 0.0896 - val_acc: 0.2136\n",
      "Epoch 5/200\n",
      "60000/60000 [==============================] - 1s 16us/step - loss: 0.0895 - acc: 0.2251 - val_loss: 0.0892 - val_acc: 0.2429\n",
      "Epoch 6/200\n",
      "60000/60000 [==============================] - 1s 16us/step - loss: 0.0891 - acc: 0.2464 - val_loss: 0.0889 - val_acc: 0.2640\n",
      "Epoch 7/200\n",
      "60000/60000 [==============================] - 1s 16us/step - loss: 0.0888 - acc: 0.2659 - val_loss: 0.0885 - val_acc: 0.2884\n",
      "Epoch 8/200\n",
      "60000/60000 [==============================] - 1s 16us/step - loss: 0.0884 - acc: 0.2883 - val_loss: 0.0882 - val_acc: 0.3149\n",
      "Epoch 9/200\n",
      "60000/60000 [==============================] - 1s 16us/step - loss: 0.0881 - acc: 0.3140 - val_loss: 0.0878 - val_acc: 0.3379\n",
      "Epoch 10/200\n",
      "60000/60000 [==============================] - 1s 16us/step - loss: 0.0878 - acc: 0.3359 - val_loss: 0.0875 - val_acc: 0.3543\n",
      "Epoch 11/200\n",
      "60000/60000 [==============================] - 1s 16us/step - loss: 0.0874 - acc: 0.3513 - val_loss: 0.0871 - val_acc: 0.3628\n",
      "Epoch 12/200\n",
      "60000/60000 [==============================] - 1s 16us/step - loss: 0.0871 - acc: 0.3607 - val_loss: 0.0868 - val_acc: 0.3700\n",
      "Epoch 13/200\n",
      "60000/60000 [==============================] - 1s 16us/step - loss: 0.0867 - acc: 0.3638 - val_loss: 0.0864 - val_acc: 0.3734\n",
      "Epoch 14/200\n",
      "60000/60000 [==============================] - 1s 16us/step - loss: 0.0864 - acc: 0.3673 - val_loss: 0.0861 - val_acc: 0.3756\n",
      "Epoch 15/200\n",
      "60000/60000 [==============================] - 1s 16us/step - loss: 0.0860 - acc: 0.3690 - val_loss: 0.0857 - val_acc: 0.3784\n",
      "Epoch 16/200\n",
      "60000/60000 [==============================] - 1s 17us/step - loss: 0.0857 - acc: 0.3700 - val_loss: 0.0853 - val_acc: 0.3799\n",
      "Epoch 17/200\n",
      "60000/60000 [==============================] - 1s 17us/step - loss: 0.0853 - acc: 0.3731 - val_loss: 0.0850 - val_acc: 0.3817\n",
      "Epoch 18/200\n",
      "60000/60000 [==============================] - 1s 16us/step - loss: 0.0849 - acc: 0.3758 - val_loss: 0.0846 - val_acc: 0.3831\n",
      "Epoch 19/200\n",
      "60000/60000 [==============================] - 1s 16us/step - loss: 0.0845 - acc: 0.3781 - val_loss: 0.0842 - val_acc: 0.3864\n",
      "Epoch 20/200\n",
      "60000/60000 [==============================] - 1s 16us/step - loss: 0.0841 - acc: 0.3805 - val_loss: 0.0838 - val_acc: 0.3891\n",
      "Epoch 21/200\n",
      "60000/60000 [==============================] - 1s 16us/step - loss: 0.0837 - acc: 0.3830 - val_loss: 0.0834 - val_acc: 0.3935\n",
      "Epoch 22/200\n",
      "60000/60000 [==============================] - 1s 16us/step - loss: 0.0833 - acc: 0.3860 - val_loss: 0.0830 - val_acc: 0.3967\n",
      "Epoch 23/200\n",
      "60000/60000 [==============================] - 1s 16us/step - loss: 0.0829 - acc: 0.3913 - val_loss: 0.0825 - val_acc: 0.3997\n",
      "Epoch 24/200\n",
      "60000/60000 [==============================] - 1s 16us/step - loss: 0.0825 - acc: 0.3953 - val_loss: 0.0821 - val_acc: 0.4027\n",
      "Epoch 25/200\n",
      "60000/60000 [==============================] - 1s 16us/step - loss: 0.0821 - acc: 0.3987 - val_loss: 0.0816 - val_acc: 0.4057\n",
      "Epoch 26/200\n",
      "60000/60000 [==============================] - 1s 16us/step - loss: 0.0816 - acc: 0.4020 - val_loss: 0.0812 - val_acc: 0.4113\n",
      "Epoch 27/200\n",
      "60000/60000 [==============================] - 1s 16us/step - loss: 0.0812 - acc: 0.4073 - val_loss: 0.0807 - val_acc: 0.4156\n",
      "Epoch 28/200\n",
      "60000/60000 [==============================] - 1s 16us/step - loss: 0.0807 - acc: 0.4108 - val_loss: 0.0803 - val_acc: 0.4194\n",
      "Epoch 29/200\n",
      "60000/60000 [==============================] - 1s 16us/step - loss: 0.0803 - acc: 0.4158 - val_loss: 0.0798 - val_acc: 0.4251\n",
      "Epoch 30/200\n",
      "60000/60000 [==============================] - 1s 16us/step - loss: 0.0798 - acc: 0.4209 - val_loss: 0.0794 - val_acc: 0.4295\n",
      "Epoch 31/200\n",
      "60000/60000 [==============================] - 1s 16us/step - loss: 0.0793 - acc: 0.4252 - val_loss: 0.0789 - val_acc: 0.4339\n",
      "Epoch 32/200\n",
      "60000/60000 [==============================] - 1s 16us/step - loss: 0.0789 - acc: 0.4293 - val_loss: 0.0784 - val_acc: 0.4383\n",
      "Epoch 33/200\n",
      "60000/60000 [==============================] - 1s 16us/step - loss: 0.0784 - acc: 0.4351 - val_loss: 0.0779 - val_acc: 0.4427\n",
      "Epoch 34/200\n",
      "60000/60000 [==============================] - 1s 16us/step - loss: 0.0779 - acc: 0.4407 - val_loss: 0.0774 - val_acc: 0.4468\n",
      "Epoch 35/200\n",
      "60000/60000 [==============================] - 1s 16us/step - loss: 0.0774 - acc: 0.4451 - val_loss: 0.0769 - val_acc: 0.4514\n",
      "Epoch 36/200\n",
      "60000/60000 [==============================] - 1s 16us/step - loss: 0.0770 - acc: 0.4501 - val_loss: 0.0764 - val_acc: 0.4560\n",
      "Epoch 37/200\n",
      "60000/60000 [==============================] - 1s 16us/step - loss: 0.0765 - acc: 0.4554 - val_loss: 0.0760 - val_acc: 0.4618\n",
      "Epoch 38/200\n",
      "60000/60000 [==============================] - 1s 16us/step - loss: 0.0760 - acc: 0.4603 - val_loss: 0.0755 - val_acc: 0.4673\n",
      "Epoch 39/200\n",
      "60000/60000 [==============================] - 1s 16us/step - loss: 0.0755 - acc: 0.4649 - val_loss: 0.0750 - val_acc: 0.4720\n",
      "Epoch 40/200\n",
      "60000/60000 [==============================] - 1s 16us/step - loss: 0.0750 - acc: 0.4698 - val_loss: 0.0745 - val_acc: 0.4764\n",
      "Epoch 41/200\n",
      "60000/60000 [==============================] - 1s 16us/step - loss: 0.0745 - acc: 0.4748 - val_loss: 0.0740 - val_acc: 0.4810\n",
      "Epoch 42/200\n",
      "60000/60000 [==============================] - 1s 16us/step - loss: 0.0740 - acc: 0.4792 - val_loss: 0.0735 - val_acc: 0.4853\n",
      "Epoch 43/200\n",
      "60000/60000 [==============================] - 1s 16us/step - loss: 0.0735 - acc: 0.4846 - val_loss: 0.0730 - val_acc: 0.4897\n",
      "Epoch 44/200\n",
      "60000/60000 [==============================] - 1s 17us/step - loss: 0.0730 - acc: 0.4889 - val_loss: 0.0725 - val_acc: 0.4946\n",
      "Epoch 45/200\n",
      "60000/60000 [==============================] - 1s 17us/step - loss: 0.0725 - acc: 0.4928 - val_loss: 0.0720 - val_acc: 0.4981\n",
      "Epoch 46/200\n",
      "60000/60000 [==============================] - 1s 16us/step - loss: 0.0721 - acc: 0.4975 - val_loss: 0.0715 - val_acc: 0.5024\n",
      "Epoch 47/200\n",
      "60000/60000 [==============================] - 1s 16us/step - loss: 0.0716 - acc: 0.5015 - val_loss: 0.0710 - val_acc: 0.5077\n",
      "Epoch 48/200\n",
      "60000/60000 [==============================] - 1s 16us/step - loss: 0.0711 - acc: 0.5068 - val_loss: 0.0705 - val_acc: 0.5125\n",
      "Epoch 49/200\n",
      "60000/60000 [==============================] - 1s 16us/step - loss: 0.0706 - acc: 0.5118 - val_loss: 0.0700 - val_acc: 0.5156\n",
      "Epoch 50/200\n",
      "60000/60000 [==============================] - 1s 16us/step - loss: 0.0701 - acc: 0.5162 - val_loss: 0.0695 - val_acc: 0.5217\n",
      "Epoch 51/200\n",
      "60000/60000 [==============================] - 1s 16us/step - loss: 0.0696 - acc: 0.5204 - val_loss: 0.0690 - val_acc: 0.5266\n",
      "Epoch 52/200\n",
      "60000/60000 [==============================] - 1s 16us/step - loss: 0.0691 - acc: 0.5256 - val_loss: 0.0685 - val_acc: 0.5299\n",
      "Epoch 53/200\n",
      "60000/60000 [==============================] - 1s 16us/step - loss: 0.0687 - acc: 0.5302 - val_loss: 0.0680 - val_acc: 0.5346\n",
      "Epoch 54/200\n",
      "60000/60000 [==============================] - 1s 16us/step - loss: 0.0682 - acc: 0.5355 - val_loss: 0.0676 - val_acc: 0.5392\n",
      "Epoch 55/200\n",
      "60000/60000 [==============================] - 1s 16us/step - loss: 0.0677 - acc: 0.5405 - val_loss: 0.0671 - val_acc: 0.5441\n",
      "Epoch 56/200\n",
      "60000/60000 [==============================] - 1s 16us/step - loss: 0.0672 - acc: 0.5457 - val_loss: 0.0666 - val_acc: 0.5479\n",
      "Epoch 57/200\n",
      "60000/60000 [==============================] - 1s 16us/step - loss: 0.0668 - acc: 0.5505 - val_loss: 0.0661 - val_acc: 0.5535\n",
      "Epoch 58/200\n",
      "60000/60000 [==============================] - 1s 16us/step - loss: 0.0663 - acc: 0.5556 - val_loss: 0.0657 - val_acc: 0.5586\n",
      "Epoch 59/200\n"
     ]
    },
    {
     "name": "stdout",
     "output_type": "stream",
     "text": [
      "60000/60000 [==============================] - 1s 16us/step - loss: 0.0658 - acc: 0.5604 - val_loss: 0.0652 - val_acc: 0.5640\n",
      "Epoch 60/200\n",
      "60000/60000 [==============================] - 1s 16us/step - loss: 0.0654 - acc: 0.5660 - val_loss: 0.0647 - val_acc: 0.5683\n",
      "Epoch 61/200\n",
      "60000/60000 [==============================] - 1s 16us/step - loss: 0.0649 - acc: 0.5713 - val_loss: 0.0643 - val_acc: 0.5736\n",
      "Epoch 62/200\n",
      "60000/60000 [==============================] - 1s 16us/step - loss: 0.0645 - acc: 0.5759 - val_loss: 0.0638 - val_acc: 0.5785\n",
      "Epoch 63/200\n",
      "60000/60000 [==============================] - 1s 16us/step - loss: 0.0640 - acc: 0.5808 - val_loss: 0.0634 - val_acc: 0.5844\n",
      "Epoch 64/200\n",
      "60000/60000 [==============================] - 1s 16us/step - loss: 0.0636 - acc: 0.5861 - val_loss: 0.0629 - val_acc: 0.5906\n",
      "Epoch 65/200\n",
      "60000/60000 [==============================] - 1s 16us/step - loss: 0.0631 - acc: 0.5908 - val_loss: 0.0625 - val_acc: 0.5951\n",
      "Epoch 66/200\n",
      "60000/60000 [==============================] - 1s 16us/step - loss: 0.0627 - acc: 0.5960 - val_loss: 0.0620 - val_acc: 0.5999\n",
      "Epoch 67/200\n",
      "60000/60000 [==============================] - 1s 16us/step - loss: 0.0623 - acc: 0.6013 - val_loss: 0.0616 - val_acc: 0.6041\n",
      "Epoch 68/200\n",
      "60000/60000 [==============================] - 1s 16us/step - loss: 0.0618 - acc: 0.6060 - val_loss: 0.0611 - val_acc: 0.6094\n",
      "Epoch 69/200\n",
      "60000/60000 [==============================] - 1s 16us/step - loss: 0.0614 - acc: 0.6105 - val_loss: 0.0607 - val_acc: 0.6141\n",
      "Epoch 70/200\n",
      "60000/60000 [==============================] - 1s 16us/step - loss: 0.0610 - acc: 0.6144 - val_loss: 0.0603 - val_acc: 0.6180\n",
      "Epoch 71/200\n",
      "60000/60000 [==============================] - 1s 16us/step - loss: 0.0605 - acc: 0.6186 - val_loss: 0.0598 - val_acc: 0.6221\n",
      "Epoch 72/200\n",
      "60000/60000 [==============================] - 1s 16us/step - loss: 0.0601 - acc: 0.6230 - val_loss: 0.0594 - val_acc: 0.6276\n",
      "Epoch 73/200\n",
      "60000/60000 [==============================] - 1s 16us/step - loss: 0.0597 - acc: 0.6265 - val_loss: 0.0590 - val_acc: 0.6328\n",
      "Epoch 74/200\n",
      "60000/60000 [==============================] - 1s 16us/step - loss: 0.0593 - acc: 0.6305 - val_loss: 0.0586 - val_acc: 0.6374\n",
      "Epoch 75/200\n",
      "60000/60000 [==============================] - 1s 16us/step - loss: 0.0589 - acc: 0.6343 - val_loss: 0.0582 - val_acc: 0.6419\n",
      "Epoch 76/200\n",
      "60000/60000 [==============================] - 1s 16us/step - loss: 0.0585 - acc: 0.6383 - val_loss: 0.0578 - val_acc: 0.6464\n",
      "Epoch 77/200\n",
      "60000/60000 [==============================] - 1s 16us/step - loss: 0.0581 - acc: 0.6422 - val_loss: 0.0574 - val_acc: 0.6497\n",
      "Epoch 78/200\n",
      "60000/60000 [==============================] - 1s 16us/step - loss: 0.0577 - acc: 0.6463 - val_loss: 0.0570 - val_acc: 0.6537\n",
      "Epoch 79/200\n",
      "60000/60000 [==============================] - 1s 16us/step - loss: 0.0573 - acc: 0.6493 - val_loss: 0.0566 - val_acc: 0.6571\n",
      "Epoch 80/200\n",
      "60000/60000 [==============================] - 1s 16us/step - loss: 0.0569 - acc: 0.6529 - val_loss: 0.0562 - val_acc: 0.6610\n",
      "Epoch 81/200\n",
      "60000/60000 [==============================] - 1s 16us/step - loss: 0.0565 - acc: 0.6559 - val_loss: 0.0558 - val_acc: 0.6656\n",
      "Epoch 82/200\n",
      "60000/60000 [==============================] - 1s 16us/step - loss: 0.0561 - acc: 0.6589 - val_loss: 0.0554 - val_acc: 0.6694\n",
      "Epoch 83/200\n",
      "60000/60000 [==============================] - 1s 16us/step - loss: 0.0558 - acc: 0.6618 - val_loss: 0.0550 - val_acc: 0.6723\n",
      "Epoch 84/200\n",
      "60000/60000 [==============================] - 1s 16us/step - loss: 0.0554 - acc: 0.6650 - val_loss: 0.0546 - val_acc: 0.6761\n",
      "Epoch 85/200\n",
      "60000/60000 [==============================] - 1s 16us/step - loss: 0.0550 - acc: 0.6685 - val_loss: 0.0542 - val_acc: 0.6786\n",
      "Epoch 86/200\n",
      "60000/60000 [==============================] - 1s 16us/step - loss: 0.0546 - acc: 0.6710 - val_loss: 0.0539 - val_acc: 0.6822\n",
      "Epoch 87/200\n",
      "60000/60000 [==============================] - 1s 16us/step - loss: 0.0543 - acc: 0.6736 - val_loss: 0.0535 - val_acc: 0.6851\n",
      "Epoch 88/200\n",
      "60000/60000 [==============================] - 1s 16us/step - loss: 0.0539 - acc: 0.6764 - val_loss: 0.0531 - val_acc: 0.6883\n",
      "Epoch 89/200\n",
      "60000/60000 [==============================] - 1s 16us/step - loss: 0.0536 - acc: 0.6791 - val_loss: 0.0528 - val_acc: 0.6921\n",
      "Epoch 90/200\n",
      "60000/60000 [==============================] - 1s 16us/step - loss: 0.0532 - acc: 0.6818 - val_loss: 0.0524 - val_acc: 0.6947\n",
      "Epoch 91/200\n",
      "60000/60000 [==============================] - 1s 16us/step - loss: 0.0528 - acc: 0.6844 - val_loss: 0.0521 - val_acc: 0.6970\n",
      "Epoch 92/200\n",
      "60000/60000 [==============================] - 1s 16us/step - loss: 0.0525 - acc: 0.6873 - val_loss: 0.0517 - val_acc: 0.6993\n",
      "Epoch 93/200\n",
      "60000/60000 [==============================] - 1s 16us/step - loss: 0.0521 - acc: 0.6900 - val_loss: 0.0514 - val_acc: 0.7025\n",
      "Epoch 94/200\n",
      "60000/60000 [==============================] - 1s 16us/step - loss: 0.0518 - acc: 0.6926 - val_loss: 0.0510 - val_acc: 0.7044\n",
      "Epoch 95/200\n",
      "60000/60000 [==============================] - 1s 16us/step - loss: 0.0515 - acc: 0.6951 - val_loss: 0.0507 - val_acc: 0.7065\n",
      "Epoch 96/200\n",
      "60000/60000 [==============================] - 1s 16us/step - loss: 0.0511 - acc: 0.6977 - val_loss: 0.0503 - val_acc: 0.7090\n",
      "Epoch 97/200\n",
      "60000/60000 [==============================] - 1s 16us/step - loss: 0.0508 - acc: 0.7002 - val_loss: 0.0500 - val_acc: 0.7109\n",
      "Epoch 98/200\n",
      "60000/60000 [==============================] - 1s 16us/step - loss: 0.0505 - acc: 0.7028 - val_loss: 0.0496 - val_acc: 0.7126\n",
      "Epoch 99/200\n",
      "60000/60000 [==============================] - 1s 16us/step - loss: 0.0501 - acc: 0.7049 - val_loss: 0.0493 - val_acc: 0.7153\n",
      "Epoch 100/200\n",
      "60000/60000 [==============================] - 1s 16us/step - loss: 0.0498 - acc: 0.7071 - val_loss: 0.0490 - val_acc: 0.7181\n",
      "Epoch 101/200\n",
      "60000/60000 [==============================] - 1s 16us/step - loss: 0.0495 - acc: 0.7095 - val_loss: 0.0487 - val_acc: 0.7199\n",
      "Epoch 102/200\n",
      "60000/60000 [==============================] - 1s 16us/step - loss: 0.0492 - acc: 0.7117 - val_loss: 0.0483 - val_acc: 0.7212\n",
      "Epoch 103/200\n",
      "60000/60000 [==============================] - 1s 16us/step - loss: 0.0489 - acc: 0.7140 - val_loss: 0.0480 - val_acc: 0.7235\n",
      "Epoch 104/200\n",
      "60000/60000 [==============================] - 1s 16us/step - loss: 0.0485 - acc: 0.7159 - val_loss: 0.0477 - val_acc: 0.7246\n",
      "Epoch 105/200\n",
      "60000/60000 [==============================] - 1s 16us/step - loss: 0.0482 - acc: 0.7179 - val_loss: 0.0474 - val_acc: 0.7267\n",
      "Epoch 106/200\n",
      "60000/60000 [==============================] - 1s 16us/step - loss: 0.0479 - acc: 0.7200 - val_loss: 0.0471 - val_acc: 0.7282\n",
      "Epoch 107/200\n",
      "60000/60000 [==============================] - 1s 16us/step - loss: 0.0476 - acc: 0.7220 - val_loss: 0.0468 - val_acc: 0.7301\n",
      "Epoch 108/200\n",
      "60000/60000 [==============================] - 1s 16us/step - loss: 0.0473 - acc: 0.7238 - val_loss: 0.0465 - val_acc: 0.7324\n",
      "Epoch 109/200\n",
      "60000/60000 [==============================] - 1s 16us/step - loss: 0.0470 - acc: 0.7258 - val_loss: 0.0462 - val_acc: 0.7354\n",
      "Epoch 110/200\n",
      "60000/60000 [==============================] - 1s 16us/step - loss: 0.0467 - acc: 0.7278 - val_loss: 0.0459 - val_acc: 0.7373\n",
      "Epoch 111/200\n",
      "60000/60000 [==============================] - 1s 16us/step - loss: 0.0464 - acc: 0.7298 - val_loss: 0.0456 - val_acc: 0.7400\n",
      "Epoch 112/200\n",
      "60000/60000 [==============================] - 1s 16us/step - loss: 0.0461 - acc: 0.7315 - val_loss: 0.0453 - val_acc: 0.7420\n",
      "Epoch 113/200\n",
      "60000/60000 [==============================] - 1s 16us/step - loss: 0.0459 - acc: 0.7336 - val_loss: 0.0450 - val_acc: 0.7442\n",
      "Epoch 114/200\n",
      "60000/60000 [==============================] - 1s 16us/step - loss: 0.0456 - acc: 0.7355 - val_loss: 0.0447 - val_acc: 0.7465\n",
      "Epoch 115/200\n",
      "60000/60000 [==============================] - 1s 16us/step - loss: 0.0453 - acc: 0.7374 - val_loss: 0.0444 - val_acc: 0.7486\n",
      "Epoch 116/200\n",
      "60000/60000 [==============================] - 1s 16us/step - loss: 0.0450 - acc: 0.7392 - val_loss: 0.0441 - val_acc: 0.7507\n",
      "Epoch 117/200\n",
      "60000/60000 [==============================] - 1s 16us/step - loss: 0.0447 - acc: 0.7415 - val_loss: 0.0438 - val_acc: 0.7530\n"
     ]
    },
    {
     "name": "stdout",
     "output_type": "stream",
     "text": [
      "Epoch 118/200\n",
      "60000/60000 [==============================] - 1s 16us/step - loss: 0.0445 - acc: 0.7433 - val_loss: 0.0436 - val_acc: 0.7544\n",
      "Epoch 119/200\n",
      "60000/60000 [==============================] - 1s 16us/step - loss: 0.0442 - acc: 0.7451 - val_loss: 0.0433 - val_acc: 0.7563\n",
      "Epoch 120/200\n",
      "60000/60000 [==============================] - 1s 16us/step - loss: 0.0439 - acc: 0.7468 - val_loss: 0.0430 - val_acc: 0.7580\n",
      "Epoch 121/200\n",
      "60000/60000 [==============================] - 1s 16us/step - loss: 0.0437 - acc: 0.7488 - val_loss: 0.0428 - val_acc: 0.7602\n",
      "Epoch 122/200\n",
      "60000/60000 [==============================] - 1s 16us/step - loss: 0.0434 - acc: 0.7507 - val_loss: 0.0425 - val_acc: 0.7617\n",
      "Epoch 123/200\n",
      "60000/60000 [==============================] - 1s 16us/step - loss: 0.0431 - acc: 0.7528 - val_loss: 0.0422 - val_acc: 0.7631\n",
      "Epoch 124/200\n",
      "60000/60000 [==============================] - 1s 16us/step - loss: 0.0429 - acc: 0.7547 - val_loss: 0.0420 - val_acc: 0.7658\n",
      "Epoch 125/200\n",
      "60000/60000 [==============================] - 1s 16us/step - loss: 0.0426 - acc: 0.7569 - val_loss: 0.0417 - val_acc: 0.7681\n",
      "Epoch 126/200\n",
      "60000/60000 [==============================] - 1s 16us/step - loss: 0.0424 - acc: 0.7589 - val_loss: 0.0414 - val_acc: 0.7703\n",
      "Epoch 127/200\n",
      "60000/60000 [==============================] - 1s 17us/step - loss: 0.0421 - acc: 0.7606 - val_loss: 0.0412 - val_acc: 0.7722\n",
      "Epoch 128/200\n",
      "60000/60000 [==============================] - 1s 16us/step - loss: 0.0419 - acc: 0.7627 - val_loss: 0.0409 - val_acc: 0.7739\n",
      "Epoch 129/200\n",
      "60000/60000 [==============================] - 1s 16us/step - loss: 0.0416 - acc: 0.7645 - val_loss: 0.0407 - val_acc: 0.7756\n",
      "Epoch 130/200\n",
      "60000/60000 [==============================] - 1s 16us/step - loss: 0.0414 - acc: 0.7666 - val_loss: 0.0404 - val_acc: 0.7782\n",
      "Epoch 131/200\n",
      "60000/60000 [==============================] - 1s 17us/step - loss: 0.0411 - acc: 0.7683 - val_loss: 0.0402 - val_acc: 0.7803\n",
      "Epoch 132/200\n",
      "60000/60000 [==============================] - 1s 16us/step - loss: 0.0409 - acc: 0.7701 - val_loss: 0.0399 - val_acc: 0.7823\n",
      "Epoch 133/200\n",
      "60000/60000 [==============================] - 1s 16us/step - loss: 0.0406 - acc: 0.7718 - val_loss: 0.0397 - val_acc: 0.7841\n",
      "Epoch 134/200\n",
      "60000/60000 [==============================] - 1s 16us/step - loss: 0.0404 - acc: 0.7738 - val_loss: 0.0395 - val_acc: 0.7869\n",
      "Epoch 135/200\n",
      "60000/60000 [==============================] - 1s 16us/step - loss: 0.0402 - acc: 0.7760 - val_loss: 0.0392 - val_acc: 0.7889\n",
      "Epoch 136/200\n",
      "60000/60000 [==============================] - 1s 16us/step - loss: 0.0399 - acc: 0.7782 - val_loss: 0.0390 - val_acc: 0.7905\n",
      "Epoch 137/200\n",
      "60000/60000 [==============================] - 1s 16us/step - loss: 0.0397 - acc: 0.7806 - val_loss: 0.0388 - val_acc: 0.7922\n",
      "Epoch 138/200\n",
      "60000/60000 [==============================] - 1s 16us/step - loss: 0.0395 - acc: 0.7827 - val_loss: 0.0385 - val_acc: 0.7935\n",
      "Epoch 139/200\n",
      "60000/60000 [==============================] - 1s 16us/step - loss: 0.0393 - acc: 0.7845 - val_loss: 0.0383 - val_acc: 0.7954\n",
      "Epoch 140/200\n",
      "60000/60000 [==============================] - 1s 16us/step - loss: 0.0390 - acc: 0.7863 - val_loss: 0.0381 - val_acc: 0.7972\n",
      "Epoch 141/200\n",
      "60000/60000 [==============================] - 1s 16us/step - loss: 0.0388 - acc: 0.7881 - val_loss: 0.0378 - val_acc: 0.7989\n",
      "Epoch 142/200\n",
      "60000/60000 [==============================] - 1s 16us/step - loss: 0.0386 - acc: 0.7902 - val_loss: 0.0376 - val_acc: 0.8008\n",
      "Epoch 143/200\n",
      "60000/60000 [==============================] - 1s 17us/step - loss: 0.0384 - acc: 0.7921 - val_loss: 0.0374 - val_acc: 0.8027\n",
      "Epoch 144/200\n",
      "60000/60000 [==============================] - 1s 17us/step - loss: 0.0382 - acc: 0.7942 - val_loss: 0.0372 - val_acc: 0.8042\n",
      "Epoch 145/200\n",
      "60000/60000 [==============================] - 1s 16us/step - loss: 0.0380 - acc: 0.7957 - val_loss: 0.0370 - val_acc: 0.8057\n",
      "Epoch 146/200\n",
      "60000/60000 [==============================] - 1s 17us/step - loss: 0.0377 - acc: 0.7979 - val_loss: 0.0368 - val_acc: 0.8080\n",
      "Epoch 147/200\n",
      "60000/60000 [==============================] - 1s 16us/step - loss: 0.0375 - acc: 0.7997 - val_loss: 0.0365 - val_acc: 0.8097\n",
      "Epoch 148/200\n",
      "60000/60000 [==============================] - 1s 16us/step - loss: 0.0373 - acc: 0.8014 - val_loss: 0.0363 - val_acc: 0.8114\n",
      "Epoch 149/200\n",
      "60000/60000 [==============================] - 1s 16us/step - loss: 0.0371 - acc: 0.8033 - val_loss: 0.0361 - val_acc: 0.8132\n",
      "Epoch 150/200\n",
      "60000/60000 [==============================] - 1s 16us/step - loss: 0.0369 - acc: 0.8049 - val_loss: 0.0359 - val_acc: 0.8149\n",
      "Epoch 151/200\n",
      "60000/60000 [==============================] - 1s 16us/step - loss: 0.0367 - acc: 0.8068 - val_loss: 0.0357 - val_acc: 0.8168\n",
      "Epoch 152/200\n",
      "60000/60000 [==============================] - 1s 16us/step - loss: 0.0365 - acc: 0.8084 - val_loss: 0.0355 - val_acc: 0.8182\n",
      "Epoch 153/200\n",
      "60000/60000 [==============================] - 1s 16us/step - loss: 0.0363 - acc: 0.8102 - val_loss: 0.0353 - val_acc: 0.8199\n",
      "Epoch 154/200\n",
      "60000/60000 [==============================] - 1s 16us/step - loss: 0.0361 - acc: 0.8116 - val_loss: 0.0351 - val_acc: 0.8218\n",
      "Epoch 155/200\n",
      "60000/60000 [==============================] - 1s 16us/step - loss: 0.0359 - acc: 0.8130 - val_loss: 0.0349 - val_acc: 0.8237\n",
      "Epoch 156/200\n",
      "60000/60000 [==============================] - 1s 16us/step - loss: 0.0358 - acc: 0.8147 - val_loss: 0.0348 - val_acc: 0.8253\n",
      "Epoch 157/200\n",
      "60000/60000 [==============================] - 1s 16us/step - loss: 0.0356 - acc: 0.8160 - val_loss: 0.0346 - val_acc: 0.8268\n",
      "Epoch 158/200\n",
      "60000/60000 [==============================] - 1s 16us/step - loss: 0.0354 - acc: 0.8176 - val_loss: 0.0344 - val_acc: 0.8277\n",
      "Epoch 159/200\n",
      "60000/60000 [==============================] - 1s 16us/step - loss: 0.0352 - acc: 0.8193 - val_loss: 0.0342 - val_acc: 0.8287\n",
      "Epoch 160/200\n",
      "60000/60000 [==============================] - 1s 16us/step - loss: 0.0350 - acc: 0.8211 - val_loss: 0.0340 - val_acc: 0.8294\n",
      "Epoch 161/200\n",
      "60000/60000 [==============================] - 1s 16us/step - loss: 0.0348 - acc: 0.8225 - val_loss: 0.0338 - val_acc: 0.8314\n",
      "Epoch 162/200\n",
      "60000/60000 [==============================] - 1s 16us/step - loss: 0.0347 - acc: 0.8236 - val_loss: 0.0336 - val_acc: 0.8338\n",
      "Epoch 163/200\n",
      "60000/60000 [==============================] - 1s 16us/step - loss: 0.0345 - acc: 0.8250 - val_loss: 0.0335 - val_acc: 0.8352\n",
      "Epoch 164/200\n",
      "60000/60000 [==============================] - 1s 16us/step - loss: 0.0343 - acc: 0.8262 - val_loss: 0.0333 - val_acc: 0.8366\n",
      "Epoch 165/200\n",
      "60000/60000 [==============================] - 1s 16us/step - loss: 0.0341 - acc: 0.8273 - val_loss: 0.0331 - val_acc: 0.8377\n",
      "Epoch 166/200\n",
      "60000/60000 [==============================] - 1s 16us/step - loss: 0.0340 - acc: 0.8287 - val_loss: 0.0329 - val_acc: 0.8385\n",
      "Epoch 167/200\n",
      "60000/60000 [==============================] - 1s 16us/step - loss: 0.0338 - acc: 0.8297 - val_loss: 0.0328 - val_acc: 0.8397\n",
      "Epoch 168/200\n",
      "60000/60000 [==============================] - 1s 16us/step - loss: 0.0336 - acc: 0.8310 - val_loss: 0.0326 - val_acc: 0.8409\n",
      "Epoch 169/200\n",
      "60000/60000 [==============================] - 1s 16us/step - loss: 0.0335 - acc: 0.8319 - val_loss: 0.0324 - val_acc: 0.8415\n",
      "Epoch 170/200\n",
      "60000/60000 [==============================] - 1s 16us/step - loss: 0.0333 - acc: 0.8332 - val_loss: 0.0323 - val_acc: 0.8427\n",
      "Epoch 171/200\n",
      "60000/60000 [==============================] - 1s 16us/step - loss: 0.0331 - acc: 0.8343 - val_loss: 0.0321 - val_acc: 0.8438\n",
      "Epoch 172/200\n",
      "60000/60000 [==============================] - 1s 16us/step - loss: 0.0330 - acc: 0.8351 - val_loss: 0.0320 - val_acc: 0.8453\n",
      "Epoch 173/200\n",
      "60000/60000 [==============================] - 1s 16us/step - loss: 0.0328 - acc: 0.8360 - val_loss: 0.0318 - val_acc: 0.8469\n",
      "Epoch 174/200\n",
      "60000/60000 [==============================] - 1s 16us/step - loss: 0.0327 - acc: 0.8371 - val_loss: 0.0316 - val_acc: 0.8470\n",
      "Epoch 175/200\n",
      "60000/60000 [==============================] - 1s 16us/step - loss: 0.0325 - acc: 0.8379 - val_loss: 0.0315 - val_acc: 0.8474\n",
      "Epoch 176/200\n"
     ]
    },
    {
     "name": "stdout",
     "output_type": "stream",
     "text": [
      "60000/60000 [==============================] - 1s 16us/step - loss: 0.0324 - acc: 0.8385 - val_loss: 0.0313 - val_acc: 0.8484\n",
      "Epoch 177/200\n",
      "60000/60000 [==============================] - 1s 16us/step - loss: 0.0322 - acc: 0.8392 - val_loss: 0.0312 - val_acc: 0.8492\n",
      "Epoch 178/200\n",
      "60000/60000 [==============================] - 1s 16us/step - loss: 0.0321 - acc: 0.8401 - val_loss: 0.0310 - val_acc: 0.8499\n",
      "Epoch 179/200\n",
      "60000/60000 [==============================] - 1s 16us/step - loss: 0.0319 - acc: 0.8408 - val_loss: 0.0309 - val_acc: 0.8507\n",
      "Epoch 180/200\n",
      "60000/60000 [==============================] - 1s 16us/step - loss: 0.0318 - acc: 0.8416 - val_loss: 0.0307 - val_acc: 0.8515\n",
      "Epoch 181/200\n",
      "60000/60000 [==============================] - 1s 16us/step - loss: 0.0316 - acc: 0.8424 - val_loss: 0.0306 - val_acc: 0.8522\n",
      "Epoch 182/200\n",
      "60000/60000 [==============================] - 1s 16us/step - loss: 0.0315 - acc: 0.8430 - val_loss: 0.0305 - val_acc: 0.8527\n",
      "Epoch 183/200\n",
      "60000/60000 [==============================] - 1s 16us/step - loss: 0.0314 - acc: 0.8436 - val_loss: 0.0303 - val_acc: 0.8531\n",
      "Epoch 184/200\n",
      "60000/60000 [==============================] - 1s 16us/step - loss: 0.0312 - acc: 0.8443 - val_loss: 0.0302 - val_acc: 0.8538\n",
      "Epoch 185/200\n",
      "60000/60000 [==============================] - 1s 16us/step - loss: 0.0311 - acc: 0.8453 - val_loss: 0.0300 - val_acc: 0.8547\n",
      "Epoch 186/200\n",
      "60000/60000 [==============================] - 1s 16us/step - loss: 0.0309 - acc: 0.8460 - val_loss: 0.0299 - val_acc: 0.8551\n",
      "Epoch 187/200\n",
      "60000/60000 [==============================] - 1s 16us/step - loss: 0.0308 - acc: 0.8467 - val_loss: 0.0298 - val_acc: 0.8554\n",
      "Epoch 188/200\n",
      "60000/60000 [==============================] - 1s 16us/step - loss: 0.0307 - acc: 0.8473 - val_loss: 0.0296 - val_acc: 0.8561\n",
      "Epoch 189/200\n",
      "60000/60000 [==============================] - 1s 16us/step - loss: 0.0305 - acc: 0.8479 - val_loss: 0.0295 - val_acc: 0.8564\n",
      "Epoch 190/200\n",
      "60000/60000 [==============================] - 1s 16us/step - loss: 0.0304 - acc: 0.8486 - val_loss: 0.0294 - val_acc: 0.8573\n",
      "Epoch 191/200\n",
      "60000/60000 [==============================] - 1s 16us/step - loss: 0.0303 - acc: 0.8491 - val_loss: 0.0292 - val_acc: 0.8580\n",
      "Epoch 192/200\n",
      "60000/60000 [==============================] - 1s 16us/step - loss: 0.0302 - acc: 0.8495 - val_loss: 0.0291 - val_acc: 0.8584\n",
      "Epoch 193/200\n",
      "60000/60000 [==============================] - 1s 16us/step - loss: 0.0300 - acc: 0.8500 - val_loss: 0.0290 - val_acc: 0.8590\n",
      "Epoch 194/200\n",
      "60000/60000 [==============================] - 1s 16us/step - loss: 0.0299 - acc: 0.8505 - val_loss: 0.0289 - val_acc: 0.8595\n",
      "Epoch 195/200\n",
      "60000/60000 [==============================] - 1s 16us/step - loss: 0.0298 - acc: 0.8510 - val_loss: 0.0287 - val_acc: 0.8601\n",
      "Epoch 196/200\n",
      "60000/60000 [==============================] - 1s 16us/step - loss: 0.0297 - acc: 0.8514 - val_loss: 0.0286 - val_acc: 0.8604\n",
      "Epoch 197/200\n",
      "60000/60000 [==============================] - 1s 16us/step - loss: 0.0295 - acc: 0.8520 - val_loss: 0.0285 - val_acc: 0.8605\n",
      "Epoch 198/200\n",
      "60000/60000 [==============================] - 1s 16us/step - loss: 0.0294 - acc: 0.8526 - val_loss: 0.0284 - val_acc: 0.8613\n",
      "Epoch 199/200\n",
      "60000/60000 [==============================] - 1s 16us/step - loss: 0.0293 - acc: 0.8529 - val_loss: 0.0282 - val_acc: 0.8623\n",
      "Epoch 200/200\n",
      "60000/60000 [==============================] - 1s 16us/step - loss: 0.0292 - acc: 0.8535 - val_loss: 0.0281 - val_acc: 0.8626\n"
     ]
    },
    {
     "data": {
      "text/plain": [
       "<keras.callbacks.History at 0x7faeba164dd8>"
      ]
     },
     "execution_count": 63,
     "metadata": {},
     "output_type": "execute_result"
    }
   ],
   "source": [
    "model.fit(X_train, y_train,\n",
    "          batch_size=128, epochs=200,\n",
    "          verbose=1,\n",
    "          validation_data=(X_valid, y_valid))"
   ]
  }
 ],
 "metadata": {
  "kernelspec": {
   "display_name": "Python 3",
   "language": "python",
   "name": "python3"
  },
  "language_info": {
   "codemirror_mode": {
    "name": "ipython",
    "version": 3
   },
   "file_extension": ".py",
   "mimetype": "text/x-python",
   "name": "python",
   "nbconvert_exporter": "python",
   "pygments_lexer": "ipython3",
   "version": "3.6.5"
  }
 },
 "nbformat": 4,
 "nbformat_minor": 2
}
